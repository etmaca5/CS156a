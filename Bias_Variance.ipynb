{
  "nbformat": 4,
  "nbformat_minor": 0,
  "metadata": {
    "colab": {
      "provenance": []
    },
    "kernelspec": {
      "name": "python3",
      "display_name": "Python 3"
    },
    "language_info": {
      "name": "python"
    }
  },
  "cells": [
    {
      "cell_type": "code",
      "execution_count": null,
      "metadata": {
        "colab": {
          "base_uri": "https://localhost:8080/"
        },
        "id": "HF0QEkFuKDu_",
        "outputId": "a5d2474b-b4ee-4f1d-8f70-aea8ab524b1f"
      },
      "outputs": [
        {
          "output_type": "stream",
          "name": "stdout",
          "text": [
            "expected value is 1.4253095797391784\n",
            "bias is 0.2725681334220625\n",
            "variance is 0.21849553480485964\n"
          ]
        }
      ],
      "source": [
        "import random\n",
        "import math\n",
        "\n",
        "def get_points(n):\n",
        "  points = []\n",
        "  for i in range(n):\n",
        "    points.append(random.uniform(-1,1))\n",
        "  return points\n",
        "\n",
        "def f(x):\n",
        "  return math.sin(math.pi * x)\n",
        "\n",
        "def get_a():\n",
        "  points = get_points(2)\n",
        "  x1 = points[0]\n",
        "  x2 = points[1]\n",
        "  y1 = f(x1)\n",
        "  y2 = f(x2)\n",
        "  return ((x1 * y1) + (x2 * y2)) / (x1**2 + x2**2)\n",
        "\n",
        "\n",
        "def get_bias(a):\n",
        "  total = 0\n",
        "  rand_points = get_points(10000)\n",
        "  for point in rand_points:\n",
        "    total += (a * point - f(point))**2\n",
        "  return total / 10000\n",
        "\n",
        "def get_variance(ev, arr):\n",
        "  total_var = 0\n",
        "  rand_points = get_points(100)\n",
        "  for a in arr:\n",
        "    for point in rand_points:\n",
        "      total_var += (ev*point - a *point)**2\n",
        "  return total_var / (len(arr) * 100)\n",
        "\n",
        "def get_values(N):\n",
        "  a_total = 0\n",
        "  arr = []\n",
        "  for i in range(N):\n",
        "    a = get_a()\n",
        "    arr.append(a)\n",
        "    a_total += a\n",
        "  expected_value = a_total / N\n",
        "  bias = get_bias(expected_value)\n",
        "  return expected_value, bias, get_variance(expected_value, arr)\n",
        "\n",
        "expected_value, bias, variance = get_values(10000)\n",
        "print(\"expected value is \" + str(expected_value))\n",
        "print(\"bias is \" + str(bias))\n",
        "print(\"variance is \" + str(variance))"
      ]
    }
  ]
}
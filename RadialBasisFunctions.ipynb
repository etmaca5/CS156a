{
  "nbformat": 4,
  "nbformat_minor": 0,
  "metadata": {
    "colab": {
      "provenance": []
    },
    "kernelspec": {
      "name": "python3",
      "display_name": "Python 3"
    },
    "language_info": {
      "name": "python"
    }
  },
  "cells": [
    {
      "cell_type": "markdown",
      "source": [
        "#Regularized Linear Regression"
      ],
      "metadata": {
        "id": "9zjT1Sb7s7X7"
      }
    },
    {
      "cell_type": "code",
      "execution_count": null,
      "metadata": {
        "colab": {
          "base_uri": "https://localhost:8080/"
        },
        "id": "Me9Is5ANs3jv",
        "outputId": "f58d7d67-8d5f-450d-bcb5-bbdd073a99d5"
      },
      "outputs": [
        {
          "output_type": "stream",
          "name": "stdout",
          "text": [
            "The error in for 5 versus all is: 0.07625840076807022\n",
            "The error in for 6 versus all is: 0.09107118365107666\n",
            "The error in for 7 versus all is: 0.08846523110684405\n",
            "The error in for 8 versus all is: 0.07433822520916199\n",
            "The error in for 9 versus all is: 0.08832807570977919\n"
          ]
        }
      ],
      "source": [
        "import numpy as np\n",
        "\n",
        "def import_data(filepath):\n",
        "  f = open(filepath)\n",
        "  digits = []\n",
        "  int_sym = []\n",
        "  for lines in f:\n",
        "    digit, inten, sym = lines.split()\n",
        "    digits.append(float(digit))\n",
        "    int_sym.append((float(inten), float(sym)))\n",
        "  return digits, int_sym\n",
        "\n",
        "def one_versus_all_classification(digits, target):\n",
        "  Y = [-1]*len(digits)\n",
        "  for i in range(len(digits)):\n",
        "    if digits[i] == target:\n",
        "      Y[i] = 1\n",
        "  return np.array(Y)\n",
        "\n",
        "def w_reg(Z, y, lam):\n",
        "  paren = np.linalg.inv(np.dot(Z.T, Z) + lam * np.identity(np.dot(Z.T, Z).shape[0]))\n",
        "  return np.dot(np.dot(paren, Z.T), y)\n",
        "\n",
        "def predict(w, x):\n",
        "  return np.sign(np.dot(w, x))\n",
        "\n",
        "def non_transform(int_sym):\n",
        "  X = []\n",
        "  for intensity, symmetry in int_sym:\n",
        "     X.append((1, intensity, symmetry))\n",
        "  return np.array(X)\n",
        "\n",
        "def err(w, Z, y):\n",
        "  err = 0\n",
        "  for i in range(len(Z)):\n",
        "    if y[i] != predict(w, Z[i]):\n",
        "      err += 1\n",
        "  return float(err)/ len(Z)\n",
        "\n",
        "def non_transform_experiment(target):\n",
        "  lam = 1\n",
        "  train_digits, train_int_sym = import_data(\"features.train\")\n",
        "  test_digits, test_int_sym = import_data(\"features.test\")\n",
        "  y_train = one_versus_all_classification(train_digits, target)\n",
        "  y_test = one_versus_all_classification(test_digits, target)\n",
        "\n",
        "  Z_train = non_transform(train_int_sym)\n",
        "  w = w_reg(Z_train, y_train, lam)\n",
        "  err_in = err(w, Z_train, y_train)\n",
        "\n",
        "  Z_test = non_transform(test_int_sym)\n",
        "  err_out = err(w, Z_test, y_test)\n",
        "  print(\"The error in for \" + str(target) +\" versus all is: \" + str(err_in))\n",
        "\n",
        "\n",
        "for i in range(5, 10):\n",
        "  non_transform_experiment(i)"
      ]
    },
    {
      "cell_type": "code",
      "source": [
        "def transform(int_sym):\n",
        "  X = []\n",
        "  for inten, sym in int_sym:\n",
        "     X.append((1, inten, sym, inten*sym, inten**2, sym**2))\n",
        "  return np.array(X)\n",
        "\n",
        "def transform_experiment(target):\n",
        "  lam = 1\n",
        "  train_digits, train_int_sym = import_data(\"features.train\")\n",
        "  test_digits, test_int_sym = import_data(\"features.test\")\n",
        "  y_train = one_versus_all_classification(train_digits, target)\n",
        "  y_test = one_versus_all_classification(test_digits, target)\n",
        "  Z_train = transform(train_int_sym)\n",
        "  w = w_reg(Z_train, y_train, lam)\n",
        "  err_in = err(w, Z_train, y_train)\n",
        "  Z_test = transform(test_int_sym)\n",
        "  err_out = err(w, Z_test, y_test)\n",
        "  print(\"The error out for \" + str(target) +\" versus all is: \" + str(err_out))\n",
        "\n",
        "\n",
        "for i in range(0, 5):\n",
        "  transform_experiment(i)"
      ],
      "metadata": {
        "colab": {
          "base_uri": "https://localhost:8080/"
        },
        "id": "5gPMuzYWKg1l",
        "outputId": "e5bd5fdd-3731-4faa-ee74-1ee2e74744f2"
      },
      "execution_count": null,
      "outputs": [
        {
          "output_type": "stream",
          "name": "stdout",
          "text": [
            "The error out for 0 versus all is: 0.10662680617837568\n",
            "The error out for 1 versus all is: 0.02192326856003986\n",
            "The error out for 2 versus all is: 0.09865470852017937\n",
            "The error out for 3 versus all is: 0.08271051320378675\n",
            "The error out for 4 versus all is: 0.09965122072745392\n"
          ]
        }
      ]
    },
    {
      "cell_type": "code",
      "source": [
        "def non_transform_experiment(target):\n",
        "  lam = 1\n",
        "  train_digits, train_int_sym = import_data(\"features.train\")\n",
        "  test_digits, test_int_sym = import_data(\"features.test\")\n",
        "  y_train = one_versus_all_classification(train_digits, target)\n",
        "  y_test = one_versus_all_classification(test_digits, target)\n",
        "  Z_train = non_transform(train_int_sym)\n",
        "  w = w_reg(Z_train, y_train, lam)\n",
        "  err_in = err(w, Z_train, y_train)\n",
        "  Z_test = non_transform(test_int_sym)\n",
        "  err_out = err(w, Z_test, y_test)\n",
        "  print(str(target) +\" versus all non-transform is: E_in: \" + str(err_in) + \", E_out: \" +str(err_out))\n",
        "\n",
        "def transform_experiment(target):\n",
        "  lam = 1\n",
        "  train_digits, train_int_sym = import_data(\"features.train\")\n",
        "  test_digits, test_int_sym = import_data(\"features.test\")\n",
        "  y_train = one_versus_all_classification(train_digits, target)\n",
        "  y_test = one_versus_all_classification(test_digits, target)\n",
        "  Z_train = transform(train_int_sym)\n",
        "  w = w_reg(Z_train, y_train, lam)\n",
        "  err_in = err(w, Z_train, y_train)\n",
        "  Z_test = transform(test_int_sym)\n",
        "  err_out = err(w, Z_test, y_test)\n",
        "  print(str(target) +\" versus all transformed is: E_in: \" + str(err_in) + \", E_out: \" +str(err_out))\n",
        "\n",
        "for i in range(0,10):\n",
        "  non_transform_experiment(i)\n",
        "  transform_experiment(i)\n"
      ],
      "metadata": {
        "colab": {
          "base_uri": "https://localhost:8080/"
        },
        "id": "0AYfZj4WWpEG",
        "outputId": "7f89ffec-e838-419d-bf82-0a11b8b404de"
      },
      "execution_count": null,
      "outputs": [
        {
          "output_type": "stream",
          "name": "stdout",
          "text": [
            "0 versus all non-transform is: E_in: 0.10931285146070498, E_out: 0.11509715994020926\n",
            "0 versus all transformed is: E_in: 0.10231792621039638, E_out: 0.10662680617837568\n",
            "1 versus all non-transform is: E_in: 0.01522424907420107, E_out: 0.02242152466367713\n",
            "1 versus all transformed is: E_in: 0.012343985735838706, E_out: 0.02192326856003986\n",
            "2 versus all non-transform is: E_in: 0.10026059525442327, E_out: 0.09865470852017937\n",
            "2 versus all transformed is: E_in: 0.10026059525442327, E_out: 0.09865470852017937\n",
            "3 versus all non-transform is: E_in: 0.09024825126868742, E_out: 0.08271051320378675\n",
            "3 versus all transformed is: E_in: 0.09024825126868742, E_out: 0.08271051320378675\n",
            "4 versus all non-transform is: E_in: 0.08942531888629818, E_out: 0.09965122072745392\n",
            "4 versus all transformed is: E_in: 0.08942531888629818, E_out: 0.09965122072745392\n",
            "5 versus all non-transform is: E_in: 0.07625840076807022, E_out: 0.07972097658196313\n",
            "5 versus all transformed is: E_in: 0.07625840076807022, E_out: 0.07922272047832586\n",
            "6 versus all non-transform is: E_in: 0.09107118365107666, E_out: 0.08470353761833582\n",
            "6 versus all transformed is: E_in: 0.09107118365107666, E_out: 0.08470353761833582\n",
            "7 versus all non-transform is: E_in: 0.08846523110684405, E_out: 0.07324364723467862\n",
            "7 versus all transformed is: E_in: 0.08846523110684405, E_out: 0.07324364723467862\n",
            "8 versus all non-transform is: E_in: 0.07433822520916199, E_out: 0.08271051320378675\n",
            "8 versus all transformed is: E_in: 0.07433822520916199, E_out: 0.08271051320378675\n",
            "9 versus all non-transform is: E_in: 0.08832807570977919, E_out: 0.08819133034379671\n",
            "9 versus all transformed is: E_in: 0.08832807570977919, E_out: 0.08819133034379671\n"
          ]
        }
      ]
    },
    {
      "cell_type": "code",
      "source": [
        "def one_versus_one_classification(digits, train_int_sym, target1, target2):\n",
        "  Y = []\n",
        "  Z = []\n",
        "  for i in range(len(digits)):\n",
        "    if digits[i] == target1 or digits[i] == target2:\n",
        "      if digits[i] == target1:\n",
        "        Y.append(1)\n",
        "      else:\n",
        "        Y.append(-1)\n",
        "      inten = train_int_sym[i][0]\n",
        "      sym = train_int_sym[i][1]\n",
        "      Z.append((1, inten, sym, inten*sym, inten**2, sym**2))\n",
        "  assert(len(Y) == len(Z))\n",
        "  return np.array(Y), np.array(Z)\n",
        "\n",
        "\n",
        "# NEED TO WORK ON THIS\n",
        "def direct_versus(target1, target2, lam):\n",
        "  train_digits, train_int_sym = import_data(\"features.train\")\n",
        "  y_train, Z_train = one_versus_one_classification(train_digits, train_int_sym, target1, target2)\n",
        "\n",
        "  test_digits, test_int_sym = import_data(\"features.test\")\n",
        "  y_test, Z_test = one_versus_one_classification(test_digits, test_int_sym, target1, target2)\n",
        "\n",
        "  w = w_reg(Z_train, y_train, lam)\n",
        "  err_in = err(w, Z_train, y_train)\n",
        "  err_out = err(w, Z_test, y_test)\n",
        "  print(\"1 versus 5, with lambda = \" +str(lam) + \" gives us E_in: \" + str(err_in) + \", E_out: \" +str(err_out))\n",
        "\n",
        "lambdas = [0.01, 1]\n",
        "for lam in lambdas:\n",
        "  direct_versus(1, 5, lam)"
      ],
      "metadata": {
        "colab": {
          "base_uri": "https://localhost:8080/"
        },
        "id": "3BPIEoj-ctaz",
        "outputId": "512bab46-36b8-4ead-a111-1616a345bc34"
      },
      "execution_count": null,
      "outputs": [
        {
          "output_type": "stream",
          "name": "stdout",
          "text": [
            "1 versus 5, with lambda = 0.01 gives us E_in: 0.004484304932735426, E_out: 0.02830188679245283\n",
            "1 versus 5, with lambda = 1 gives us E_in: 0.005124919923126201, E_out: 0.025943396226415096\n"
          ]
        }
      ]
    },
    {
      "cell_type": "markdown",
      "source": [
        "#Support Vector Machines"
      ],
      "metadata": {
        "id": "HZNgY4xUPZMw"
      }
    },
    {
      "cell_type": "code",
      "source": [
        "import numpy as np\n",
        "X = np.array([(1,0), (0,1), (0, -1), (-1, 0), (0, 2), (0, -2), (-2,0)])\n",
        "Y = np.array((-1, -1, -1, 1, 1, 1, 1))\n",
        "\n",
        "# def transform(X):\n",
        "#   Z = []\n",
        "#   for x1, x2 in X:\n",
        "#     Z.append((x2**2 - 2 * x1 - 1, x1**2 - 2 * x2 - 1))\n",
        "#   return Z\n",
        "\n",
        "from sklearn import svm\n",
        "# this represents the kernel in the given problem\n",
        "clf = svm.SVC(C= 10000, kernel='poly', degree=2, coef0=1)\n",
        "clf.fit(X, Y)\n",
        "print(str(len(clf.support_vectors_)) + \" support vector machines\")"
      ],
      "metadata": {
        "colab": {
          "base_uri": "https://localhost:8080/"
        },
        "id": "hRM2de33PbRN",
        "outputId": "b6c7e904-ae3e-4043-87a3-f06cd7106843"
      },
      "execution_count": null,
      "outputs": [
        {
          "output_type": "stream",
          "name": "stdout",
          "text": [
            "5 support vector machines\n"
          ]
        }
      ]
    },
    {
      "cell_type": "markdown",
      "source": [
        "#Radial Basis Functions"
      ],
      "metadata": {
        "id": "0oJo21fDVdBJ"
      }
    },
    {
      "cell_type": "code",
      "source": [
        "import numpy as np\n",
        "from sklearn import svm\n",
        "import random\n",
        "\n",
        "min_val = -1\n",
        "max_val = 1\n",
        "\n",
        "def target_function(x1, x2):\n",
        "  return np.sign(x2 - x1 + 0.25 * np.sin(np.pi * x1))\n",
        "\n",
        "# creates and evaluates a dataset\n",
        "def create_dataset(N):\n",
        "  X = [(0, 0) for i in range(N)]\n",
        "  Y = []\n",
        "  for i in range(N):\n",
        "    X[i] = (random.uniform(min_val, max_val), random.uniform(min_val, max_val))\n",
        "    Y.append(target_function(X[i][0], X[i][1]))\n",
        "  return np.array(X), np.array(Y)\n",
        "\n",
        "def rbf_seperable_rate(N, sims):\n",
        "  discards = 0\n",
        "  for i in range(sims):\n",
        "    clf = svm.SVC(C= 10000, kernel='rbf',coef0=1, gamma=1.5)\n",
        "    X, Y = create_dataset(N)\n",
        "    clf.fit(X, Y)\n",
        "    if clf.score(X,Y) != 1:\n",
        "      discards += 1\n",
        "  return discards / sims\n",
        "\n",
        "print(\"For gamma = 1.5, we get that the data set is non-seperable: \"\n",
        "      + str(rbf_seperable_rate(100, 100)))\n"
      ],
      "metadata": {
        "colab": {
          "base_uri": "https://localhost:8080/"
        },
        "id": "ZWfGXAJyVcog",
        "outputId": "ed4babc8-9179-4db9-f1a9-4a475ef9c77d"
      },
      "execution_count": null,
      "outputs": [
        {
          "output_type": "stream",
          "name": "stdout",
          "text": [
            "For gamma = 1.5, we get that the data set is non-seperable: 0.0\n"
          ]
        }
      ]
    },
    {
      "cell_type": "code",
      "source": [
        "def create_points(N):\n",
        "  X = [(0, 0) for i in range(N)]\n",
        "  for i in range(N):\n",
        "    X[i] = (random.uniform(min_val, max_val), random.uniform(min_val, max_val))\n",
        "  return np.array(X)\n",
        "\n",
        "def create_centers(X, K):\n",
        "  # centers and clusters correspond\n",
        "  centers = create_points(K)\n",
        "  prev = centers.copy()\n",
        "  repeat = False\n",
        "  while(not repeat):\n",
        "    clusters = [[]] * K\n",
        "    # now put all points of X into clusters based on centers\n",
        "    for x1, x2 in X:\n",
        "      closest_idx = 0\n",
        "      min_dist = 99999\n",
        "      for i in range(len(clusters)):\n",
        "        u1, u2 = centers[i]\n",
        "        curr_dist = np.sqrt((x1 - u1)**2 + (x2 - u2) **2)\n",
        "        if(curr_dist < min_dist):\n",
        "          min_dist = curr_dist\n",
        "          closest_idx = i\n",
        "        clusters[closest_idx].append(centers[i])\n",
        "    for cluster in clusters:\n",
        "      if len(cluster) == 0:\n",
        "        return create_centers(X, K)\n",
        "    for i in range(K):\n",
        "      # overwrite center with the average\n",
        "      centers[i][0] = np.mean(np.array(clusters[i])[:, 0])\n",
        "      centers[i][1] = np.mean(np.array(clusters[i])[:, 1])\n",
        "    # now check that we get the same twice in a row, by comparing to prev\n",
        "    if (prev.all() == centers.all()):\n",
        "      repeat = True\n",
        "    prev = centers.copy()\n",
        "  return centers\n",
        "\n",
        "def transform(X, centers, gamma, K):\n",
        "  Z = []\n",
        "  for x1, x2 in X:\n",
        "    features = [1]\n",
        "    for i in range(K):\n",
        "      u1, u2 = centers[i]\n",
        "      features.append(np.exp(-1 *gamma * ((x1 - u1)**2 + (x2 - u2)**2)))\n",
        "    Z.append(np.array(features))\n",
        "  return np.array(Z)\n",
        "\n",
        "def find_weight_vec(X, y):\n",
        "  pseudo_inv = np.dot(np.linalg.inv(np.dot(X.T, X)), X.T)\n",
        "  w = np.array(np.dot(pseudo_inv, y))\n",
        "  return w\n",
        "\n",
        "def predict(x, w):\n",
        "  return np.sign(np.dot(x, w))\n",
        "\n",
        "def err_out(Z, w, y):\n",
        "  incorrect = 0\n",
        "  for i in range(len(Z)):\n",
        "    if predict(Z[i], w) != y[i]:\n",
        "      incorrect += 1\n",
        "  return incorrect / len(Z)\n",
        "\n",
        "def experiment(K):\n",
        "  test_size = 1000\n",
        "  gamma = 1.5\n",
        "  # LLoyd - psuedo-inverse:\n",
        "  X_train, y_train = create_dataset(100)\n",
        "  X_test, y_test = create_dataset(test_size)\n",
        "  centers = create_centers(X_train, K)\n",
        "  Z_train = transform(X_train, centers, gamma, K)\n",
        "  Z_test = transform(X_test, centers, gamma, K)\n",
        "  w = find_weight_vec(Z_train, y_train)\n",
        "  lloyd_e_out = err_out(Z_test, w, y_test)\n",
        "\n",
        "  # svm\n",
        "  discards = 0\n",
        "  clf = svm.SVC(C= 10000, kernel='rbf',coef0=1, gamma=1.5)\n",
        "  clf.fit(X_train, y_train)\n",
        "  if clf.score(X_train,y_train) != 1:\n",
        "      discards += 1\n",
        "  svm_e_out = 1 - clf.score(X_test, y_test)\n",
        "  return lloyd_e_out, svm_e_out, discards\n",
        "\n",
        "\n",
        "sims = 1000\n",
        "K = 9\n",
        "kernel_beats_regular = 0\n",
        "for i in range(sims):\n",
        "  lloyd_e_out, svm_e_out, discards = experiment(K)\n",
        "  if lloyd_e_out > svm_e_out:\n",
        "    kernel_beats_regular += 1\n",
        "print(\"Frequency of kernel beating regular with K = 9: \" + str(kernel_beats_regular / sims) )"
      ],
      "metadata": {
        "colab": {
          "base_uri": "https://localhost:8080/"
        },
        "id": "Ro1fzuLHUbVf",
        "outputId": "b139f1e0-28ca-4c4a-ca70-d8670f0b8e83"
      },
      "execution_count": null,
      "outputs": [
        {
          "output_type": "stream",
          "name": "stdout",
          "text": [
            "Frequency of kernel beating regular with K = 9: 0.877\n"
          ]
        }
      ]
    },
    {
      "cell_type": "code",
      "source": [
        "sims = 1000\n",
        "K = 12\n",
        "kernel_beats_regular = 0\n",
        "for i in range(sims):\n",
        "  lloyd_e_out, svm_e_out, discards = experiment(K)\n",
        "  if lloyd_e_out > svm_e_out:\n",
        "    kernel_beats_regular += 1\n",
        "print(\"Frequency of kernel beating regular with K = 9: \" + str(kernel_beats_regular / sims) )"
      ],
      "metadata": {
        "colab": {
          "base_uri": "https://localhost:8080/"
        },
        "id": "ljxR-EMYvEx7",
        "outputId": "20d6b3c7-6627-4143-a15d-2c46a4ac39b1"
      },
      "execution_count": null,
      "outputs": [
        {
          "output_type": "stream",
          "name": "stdout",
          "text": [
            "Frequency of kernel beating regular with K = 9: 0.819\n"
          ]
        }
      ]
    },
    {
      "cell_type": "code",
      "source": [
        "def err(Z, w, y):\n",
        "  incorrect = 0\n",
        "  for i in range(len(Z)):\n",
        "    if predict(Z[i], w) != y[i]:\n",
        "      incorrect += 1\n",
        "  return incorrect / len(Z)\n",
        "\n",
        "def regular_rbf_comparison(K1, K2):\n",
        "  test_size = 1000\n",
        "  gamma = 1.5\n",
        "  X_train, y_train = create_dataset(100)\n",
        "  X_test, y_test = create_dataset(test_size)\n",
        "\n",
        "  centers = create_centers(X_train, K1)\n",
        "  Z_train = transform(X_train, centers, gamma, K1)\n",
        "  Z_test = transform(X_test, centers, gamma, K1)\n",
        "  w = find_weight_vec(Z_train, y_train)\n",
        "  e_in = err(Z_train, w, y_train)\n",
        "  e_out = err(Z_test, w, y_test)\n",
        "\n",
        "  centersK2 = create_centers(X_train, K2)\n",
        "  Z_trainK2 = transform(X_train, centersK2, gamma, K2)\n",
        "  Z_testK2 = transform(X_test, centersK2, gamma, K2)\n",
        "  wK2 = find_weight_vec(Z_trainK2, y_train)\n",
        "  e_inK2 = err(Z_trainK2, wK2, y_train)\n",
        "  e_outK2 = err(Z_testK2, wK2, y_test)\n",
        "  return e_in, e_out, e_inK2, e_outK2\n",
        "\n",
        "sims = 100\n",
        "K1 = 9\n",
        "K2 = 12\n",
        "in_down_out_up = 0\n",
        "in_up_out_down = 0\n",
        "both_up = 0\n",
        "both_down = 0\n",
        "remain_same = 0\n",
        "for i in range(sims):\n",
        "  e_inK, e_outK, e_inK2, e_outK2 = regular_rbf_comparison(K1, K2)\n",
        "  if e_inK < e_inK2:\n",
        "    if e_outK < e_outK2: both_up += 1\n",
        "    elif e_outK > e_outK2: in_up_out_down += 1\n",
        "    else: remain_same += 1\n",
        "  else:\n",
        "    if e_outK < e_outK2: in_down_out_up += 1\n",
        "    elif e_outK > e_outK2: both_down += 1\n",
        "    else: remain_same += 1\n",
        "\n",
        "print(\"a frequency: \" + str(in_down_out_up))\n",
        "print(\"b frequency: \" + str(in_up_out_down))\n",
        "print(\"c frequency: \" + str(both_up))\n",
        "print(\"d frequency: \" + str(both_down))\n",
        "print(\"e frequency: \" + str(remain_same))"
      ],
      "metadata": {
        "colab": {
          "base_uri": "https://localhost:8080/"
        },
        "id": "Gq0FBbDavg-3",
        "outputId": "6d6109cf-1d28-4e94-bec2-21a01fd526c1"
      },
      "execution_count": null,
      "outputs": [
        {
          "output_type": "stream",
          "name": "stdout",
          "text": [
            "a frequency: 17\n",
            "b frequency: 10\n",
            "c frequency: 8\n",
            "d frequency: 61\n",
            "e frequency: 4\n"
          ]
        }
      ]
    },
    {
      "cell_type": "code",
      "source": [
        "def gamma_comparison(K, gam1, gam2):\n",
        "  test_size = 1000\n",
        "  X_train, y_train = create_dataset(100)\n",
        "  X_test, y_test = create_dataset(test_size)\n",
        "\n",
        "  centers = create_centers(X_train, K)\n",
        "  Z_train = transform(X_train, centers, gam1, K)\n",
        "  Z_test = transform(X_test, centers, gam1, K)\n",
        "  w = find_weight_vec(Z_train, y_train)\n",
        "  e_in = err(Z_train, w, y_train)\n",
        "  e_out = err(Z_test, w, y_test)\n",
        "\n",
        "  centers2 = create_centers(X_train, K)\n",
        "  Z_train2 = transform(X_train, centers2, gam2, K)\n",
        "  Z_test2 = transform(X_test, centers2, gam2, K)\n",
        "  w2 = find_weight_vec(Z_train2, y_train)\n",
        "  e_in2 = err(Z_train2, w2, y_train)\n",
        "  e_out2 = err(Z_test2, w2, y_test)\n",
        "  return e_in, e_out, e_in2, e_out2\n",
        "\n",
        "sims = 100\n",
        "K = 9\n",
        "gam1 = 1.5\n",
        "gam2 = 2\n",
        "in_down_out_up = 0\n",
        "in_up_out_down = 0\n",
        "both_up = 0\n",
        "both_down = 0\n",
        "remain_same = 0\n",
        "for i in range(sims):\n",
        "  e_inK, e_outK, e_inK2, e_outK2 = gamma_comparison(K, gam1, gam2)\n",
        "  if e_inK < e_inK2:\n",
        "    if e_outK < e_outK2: both_up += 1\n",
        "    elif e_outK > e_outK2: in_up_out_down += 1\n",
        "    else: remain_same += 1\n",
        "  else:\n",
        "    if e_outK < e_outK2: in_down_out_up += 1\n",
        "    elif e_outK > e_outK2: both_down += 1\n",
        "    else: remain_same += 1\n",
        "\n",
        "print(\"a frequency: \" + str(in_down_out_up))\n",
        "print(\"b frequency: \" + str(in_up_out_down))\n",
        "print(\"c frequency: \" + str(both_up))\n",
        "print(\"d frequency: \" + str(both_down))\n",
        "print(\"e frequency: \" + str(remain_same))"
      ],
      "metadata": {
        "colab": {
          "base_uri": "https://localhost:8080/"
        },
        "id": "sjvY3ZgizqN-",
        "outputId": "653e26fd-f960-4c75-af22-2ef7f67db9a9"
      },
      "execution_count": null,
      "outputs": [
        {
          "output_type": "stream",
          "name": "stdout",
          "text": [
            "a frequency: 25\n",
            "b frequency: 10\n",
            "c frequency: 38\n",
            "d frequency: 24\n",
            "e frequency: 3\n"
          ]
        }
      ]
    },
    {
      "cell_type": "code",
      "source": [
        "def rbf_experiment(K1):\n",
        "  test_size = 1000\n",
        "  gamma = 1.5\n",
        "  X_train, y_train = create_dataset(100)\n",
        "  X_test, y_test = create_dataset(test_size)\n",
        "\n",
        "  centers = create_centers(X_train, K1)\n",
        "  Z_train = transform(X_train, centers, gamma, K1)\n",
        "  Z_test = transform(X_test, centers, gamma, K1)\n",
        "  w = find_weight_vec(Z_train, y_train)\n",
        "  e_in = err(Z_train, w, y_train)\n",
        "  return e_in\n",
        "sims = 100\n",
        "e_in_0 = 0\n",
        "K = 9\n",
        "for i in range(sims):\n",
        "  if rbf_experiment(K) == 0:\n",
        "    e_in_0 += 1\n",
        "print(\"E_in = 0 occurs with the following frequency: \" + str(e_in_0 / sims))"
      ],
      "metadata": {
        "colab": {
          "base_uri": "https://localhost:8080/"
        },
        "id": "AvOg7qWRWU6O",
        "outputId": "1d1ff280-17f0-48eb-99e5-499c8eada3e2"
      },
      "execution_count": null,
      "outputs": [
        {
          "output_type": "stream",
          "name": "stdout",
          "text": [
            "E_in = 0 occurs with the following frequency: 0.04\n"
          ]
        }
      ]
    }
  ]
}
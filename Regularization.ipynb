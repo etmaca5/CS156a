{
  "nbformat": 4,
  "nbformat_minor": 0,
  "metadata": {
    "colab": {
      "provenance": []
    },
    "kernelspec": {
      "name": "python3",
      "display_name": "Python 3"
    },
    "language_info": {
      "name": "python"
    }
  },
  "cells": [
    {
      "cell_type": "code",
      "execution_count": null,
      "metadata": {
        "colab": {
          "base_uri": "https://localhost:8080/"
        },
        "id": "lHSeizb4thTT",
        "outputId": "aa7e6e74-62b1-40ee-c0ff-ef6889c4b675"
      },
      "outputs": [
        {
          "output_type": "stream",
          "name": "stdout",
          "text": [
            "The in sample error is 0.02857142857142857\n",
            "The out of sample error is 0.084\n"
          ]
        }
      ],
      "source": [
        "from numpy.core.numeric import identity\n",
        "import numpy as np\n",
        "\n",
        "def import_data(filepath):\n",
        "  f = open(filepath)\n",
        "  X = []\n",
        "  y = []\n",
        "  for lines in f:\n",
        "    line = lines.split()\n",
        "    X.append((float(line[0]), float(line[1])))\n",
        "    y.append(float(line[2]))\n",
        "  return (np.array(X), np.array(y))\n",
        "\n",
        "def phi(x1, x2):\n",
        "  return (1, x1, x2, x1**2, x2**2, x1*x2, abs(x1 - x2), abs(x1 + x2))\n",
        "\n",
        "def transformation(X):\n",
        "  Z = []\n",
        "  for point in X:\n",
        "    x1, x2 = point\n",
        "    Z.append(phi(x1, x2))\n",
        "  return np.array(Z)\n",
        "\n",
        "def w_lin(Z, y):\n",
        "  return np.dot(np.dot(np.linalg.inv(np.dot(Z.T, Z)), Z.T), y)\n",
        "\n",
        "def predict(w, x):\n",
        "  return np.sign(np.dot(w,x))\n",
        "\n",
        "def err(w, X, y):\n",
        "  err = 0\n",
        "  for i in range(len(X)):\n",
        "    if y[i] != predict(w, X[i]):\n",
        "      err += 1\n",
        "  return float(err)/ len(X)\n",
        "\n",
        "\n",
        "def sim():\n",
        "  X_in, y_in = import_data(\"in.txt\")\n",
        "  X_out, y_out = import_data(\"out.txt\")\n",
        "  Z_in = transformation(X_in)\n",
        "  w = w_lin(Z_in, y_in)\n",
        "  Z_out = transformation(X_out)\n",
        "  err_in = err(w, Z_in, y_in)\n",
        "  err_out = err(w, Z_out, y_out)\n",
        "  print(\"The in sample error is \" + str(err_in))\n",
        "  print(\"The out of sample error is \" + str(err_out))\n",
        "\n",
        "\n",
        "sim()"
      ]
    },
    {
      "cell_type": "code",
      "source": [
        "def w_reg(Z, y, lam):\n",
        "  paren = np.linalg.inv(np.dot(Z.T, Z) + lam * np.identity(np.dot(Z.T, Z).shape[0]))\n",
        "  return np.dot(np.dot(paren, Z.T), y)\n",
        "\n",
        "def sim_weight_decay(k):\n",
        "  lam = 10**k\n",
        "  X_in, y_in = import_data(\"in.txt\")\n",
        "  X_out, y_out = import_data(\"out.txt\")\n",
        "  Z_in = transformation(X_in)\n",
        "  w = w_reg(Z_in, y_in, lam)\n",
        "  Z_out = transformation(X_out)\n",
        "  err_in = err(w, Z_in, y_in)\n",
        "  err_out = err(w, Z_out, y_out)\n",
        "  print(\"The in sample error with weight decay k=\" +str(k) + \" is \" + str(err_in))\n",
        "  print(\"The out of sample error with weight decay k=\" +str(k) + \" is \" + str(err_out))\n",
        "\n",
        "sim_weight_decay(-3)"
      ],
      "metadata": {
        "colab": {
          "base_uri": "https://localhost:8080/"
        },
        "id": "ihvnEV5337a5",
        "outputId": "d19eadf5-5883-4919-9caf-144ccbb7d3d7"
      },
      "execution_count": null,
      "outputs": [
        {
          "output_type": "stream",
          "name": "stdout",
          "text": [
            "The in sample error with weight decay k=-3 is 0.02857142857142857\n",
            "The out of sample error with weight decay k=-3 is 0.08\n"
          ]
        },
        {
          "output_type": "execute_result",
          "data": {
            "text/plain": [
              "0.08"
            ]
          },
          "metadata": {},
          "execution_count": 9
        }
      ]
    },
    {
      "cell_type": "code",
      "source": [
        "sim_weight_decay(3)"
      ],
      "metadata": {
        "colab": {
          "base_uri": "https://localhost:8080/"
        },
        "id": "S6sz0z3c5zRN",
        "outputId": "58a18597-9203-4c7f-f4c3-68a9783ea64c"
      },
      "execution_count": null,
      "outputs": [
        {
          "output_type": "stream",
          "name": "stdout",
          "text": [
            "The in sample error with weight decay k=3 is 0.37142857142857144\n",
            "The out of sample error with weight decay k=3 is 0.436\n"
          ]
        },
        {
          "output_type": "execute_result",
          "data": {
            "text/plain": [
              "0.436"
            ]
          },
          "metadata": {},
          "execution_count": 10
        }
      ]
    },
    {
      "cell_type": "code",
      "source": [
        "sim_weight_decay(2)\n",
        "print(\"\\n\")\n",
        "sim_weight_decay(1)\n",
        "print(\"\\n\")\n",
        "sim_weight_decay(0)\n",
        "print(\"\\n\")\n",
        "sim_weight_decay(-1)\n",
        "print(\"\\n\")\n",
        "sim_weight_decay(-2)"
      ],
      "metadata": {
        "colab": {
          "base_uri": "https://localhost:8080/"
        },
        "id": "J42TVuWo520K",
        "outputId": "fc2ae114-c100-40a1-8f2a-43762a8fe3e7"
      },
      "execution_count": null,
      "outputs": [
        {
          "output_type": "stream",
          "name": "stdout",
          "text": [
            "The in sample error with weight decay k=2 is 0.2\n",
            "The out of sample error with weight decay k=2 is 0.228\n",
            "\n",
            "\n",
            "The in sample error with weight decay k=1 is 0.05714285714285714\n",
            "The out of sample error with weight decay k=1 is 0.124\n",
            "\n",
            "\n",
            "The in sample error with weight decay k=0 is 0.0\n",
            "The out of sample error with weight decay k=0 is 0.092\n",
            "\n",
            "\n",
            "The in sample error with weight decay k=-1 is 0.02857142857142857\n",
            "The out of sample error with weight decay k=-1 is 0.056\n",
            "\n",
            "\n",
            "The in sample error with weight decay k=-2 is 0.02857142857142857\n",
            "The out of sample error with weight decay k=-2 is 0.084\n"
          ]
        },
        {
          "output_type": "execute_result",
          "data": {
            "text/plain": [
              "0.084"
            ]
          },
          "metadata": {},
          "execution_count": 11
        }
      ]
    },
    {
      "cell_type": "code",
      "source": [
        "def sim_weight_decay_test(k):\n",
        "  lam = 10**k\n",
        "  X_in, y_in = import_data(\"in.txt\")\n",
        "  X_out, y_out = import_data(\"out.txt\")\n",
        "  Z_in = transformation(X_in)\n",
        "  w = w_reg(Z_in, y_in, lam)\n",
        "  Z_out = transformation(X_out)\n",
        "  return err(w, Z_out, y_out)\n",
        "\n",
        "lowest = sim_weight_decay_test(-10)\n",
        "for i in range(18):\n",
        "  lowest = min(lowest, sim_weight_decay_test(i - 9))\n",
        "print(lowest)"
      ],
      "metadata": {
        "colab": {
          "base_uri": "https://localhost:8080/"
        },
        "id": "OOVn5YPdfMG3",
        "outputId": "e9fd8004-4c0b-4383-9541-780edd5b1b8c"
      },
      "execution_count": null,
      "outputs": [
        {
          "output_type": "stream",
          "name": "stdout",
          "text": [
            "0.056\n"
          ]
        }
      ]
    }
  ]
}
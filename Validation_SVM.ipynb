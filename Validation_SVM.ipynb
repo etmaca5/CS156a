{
  "nbformat": 4,
  "nbformat_minor": 0,
  "metadata": {
    "colab": {
      "provenance": []
    },
    "kernelspec": {
      "name": "python3",
      "display_name": "Python 3"
    },
    "language_info": {
      "name": "python"
    }
  },
  "cells": [
    {
      "cell_type": "code",
      "execution_count": null,
      "metadata": {
        "colab": {
          "base_uri": "https://localhost:8080/"
        },
        "id": "JfWluNSBZgnK",
        "outputId": "007bb657-4507-4a68-a6c9-9a1aa5a7fe5e"
      },
      "outputs": [
        {
          "output_type": "stream",
          "name": "stdout",
          "text": [
            "0.3\n",
            "0.5\n",
            "0.2\n",
            "0.0\n",
            "0.1\n",
            "The model with the best validation error is k = 6 with an error of: 0.0\n"
          ]
        }
      ],
      "source": [
        "from numpy.core.numeric import identity\n",
        "import numpy as np\n",
        "\n",
        "def import_data(filepath):\n",
        "  f = open(filepath)\n",
        "  X = []\n",
        "  y = []\n",
        "  for lines in f:\n",
        "    line = lines.split()\n",
        "    X.append((float(line[0]), float(line[1])))\n",
        "    y.append(float(line[2]))\n",
        "  return (np.array(X), np.array(y))\n",
        "\n",
        "def phi(x1, x2):\n",
        "  return (1, x1, x2, x1**2, x2**2, x1*x2, abs(x1 - x2), abs(x1 + x2))\n",
        "\n",
        "# K points taken out\n",
        "def transformation(X, K):\n",
        "  Z = []\n",
        "  for point in X:\n",
        "    x1, x2 = point\n",
        "    Z.append(phi(x1, x2)[:K + 1])\n",
        "  return np.array(Z)\n",
        "\n",
        "def predict(w, x):\n",
        "  return np.sign(np.dot(w,x))\n",
        "\n",
        "def w_lin(Z, y):\n",
        "  return np.dot(np.dot(np.linalg.inv(np.dot(Z.T, Z)), Z.T), y)\n",
        "\n",
        "def err(w, X, y):\n",
        "  err = 0\n",
        "  for i in range(len(X)):\n",
        "    if y[i] != predict(w, X[i]):\n",
        "      err += 1\n",
        "  return float(err)/ len(X)\n",
        "\n",
        "\n",
        "def train_validate_split(data,  N):\n",
        "  return data[:N], data[N:]\n",
        "\n",
        "def sim(K):\n",
        "  X_in, y_in = import_data(\"in.txt\")\n",
        "  X_out, y_out = import_data(\"out.txt\")\n",
        "  Z_in = transformation(X_in, K)\n",
        "  train_Z, validation_Z = train_validate_split(Z_in, 25)\n",
        "  train_y, validation_y = train_validate_split(y_in, 25)\n",
        "  w = w_lin(train_Z, train_y)\n",
        "\n",
        "  Z_out = transformation(X_out, K)\n",
        "\n",
        "  err_in = err(w, train_Z, train_y)\n",
        "  err_val = err(w, validation_Z, validation_y)\n",
        "  err_out = err(w, Z_out, y_out)\n",
        "  return err_in, err_val, err_out\n",
        "\n",
        "K_vals = [3, 4, 5, 6, 7]\n",
        "\n",
        "def lowest_val_error(K_vals):\n",
        "  lowest_k = 3\n",
        "  lowest_err = 1\n",
        "  for k in K_vals:\n",
        "    _, err_val, _ = sim(k)\n",
        "    print(err_val)\n",
        "    if(err_val < lowest_err):\n",
        "      lowest_err = err_val\n",
        "      lowest_k = k\n",
        "  print(\"The model with the best validation error is k = \" + str(lowest_k) +\n",
        "        \" with an error of: \" + str(lowest_err))\n",
        "\n",
        "lowest_val_error(K_vals)"
      ]
    },
    {
      "cell_type": "code",
      "source": [
        "def lowest_err_out(K_vals):\n",
        "  lowest_k = 3\n",
        "  lowest_err = 1\n",
        "  for k in K_vals:\n",
        "    _, _, err_out = sim(k)\n",
        "    print(err_out)\n",
        "    if(err_out < lowest_err):\n",
        "      lowest_err = err_out\n",
        "      lowest_k = k\n",
        "  print(\"The model with the best error out is k = \" + str(lowest_k) +\n",
        "        \" with an error of: \" + str(lowest_err))\n",
        "\n",
        "lowest_err_out(K_vals)"
      ],
      "metadata": {
        "colab": {
          "base_uri": "https://localhost:8080/"
        },
        "id": "0sPaCd6RkpFT",
        "outputId": "e16b2fb7-68bd-481a-b543-c220888e683b"
      },
      "execution_count": null,
      "outputs": [
        {
          "output_type": "stream",
          "name": "stdout",
          "text": [
            "0.42\n",
            "0.416\n",
            "0.188\n",
            "0.084\n",
            "0.072\n",
            "The model with the best error out is k = 7 with an error of: 0.072\n"
          ]
        }
      ]
    },
    {
      "cell_type": "code",
      "source": [
        "def sim_reversed_train_validate(K):\n",
        "  X_in, y_in = import_data(\"in.txt\")\n",
        "  X_out, y_out = import_data(\"out.txt\")\n",
        "  Z_in = transformation(X_in, K)\n",
        "  train_Z, validation_Z = train_validate_split(Z_in, 25)\n",
        "  train_y, validation_y = train_validate_split(y_in, 25)\n",
        "  w = w_lin(validation_Z, validation_y)\n",
        "\n",
        "  Z_out = transformation(X_out, K)\n",
        "\n",
        "  # now we swap validation and train sets, the names might be a little confusing\n",
        "  err_in = err(w, validation_Z, validation_y)\n",
        "  err_val = err(w, train_Z, train_y)\n",
        "  err_out = err(w, Z_out, y_out)\n",
        "  return err_in, err_val, err_out\n",
        "\n",
        "def lowest_val_error_reversed(K_vals):\n",
        "  lowest_k = 3\n",
        "  lowest_err = 1\n",
        "  for k in K_vals:\n",
        "    _, err_val, _ = sim_reversed_train_validate(k)\n",
        "    print(err_val)\n",
        "    if(err_val < lowest_err):\n",
        "      lowest_err = err_val\n",
        "      lowest_k = k\n",
        "  print(\"The model with the best validation error is k = \" + str(lowest_k) +\n",
        "        \" with an error of: \" + str(lowest_err))\n",
        "\n",
        "lowest_val_error_reversed(K_vals)"
      ],
      "metadata": {
        "colab": {
          "base_uri": "https://localhost:8080/"
        },
        "id": "m1V4hdLflBaS",
        "outputId": "42c2404b-4c0d-4b4b-d67e-2b8b89c1214d"
      },
      "execution_count": null,
      "outputs": [
        {
          "output_type": "stream",
          "name": "stdout",
          "text": [
            "0.28\n",
            "0.36\n",
            "0.2\n",
            "0.08\n",
            "0.12\n",
            "The model with the best validation error is k = 6 with an error of: 0.08\n"
          ]
        }
      ]
    },
    {
      "cell_type": "code",
      "source": [
        "def lowest_err_out_reversed(K_vals):\n",
        "  lowest_k = 3\n",
        "  lowest_err = 1\n",
        "  for k in K_vals:\n",
        "    _, _, err_out = sim_reversed_train_validate(k)\n",
        "    print(err_out)\n",
        "    if(err_out < lowest_err):\n",
        "      lowest_err = err_out\n",
        "      lowest_k = k\n",
        "  print(\"The model with the best error out is k = \" + str(lowest_k) +\n",
        "        \" with an error of: \" + str(lowest_err))\n",
        "\n",
        "lowest_err_out_reversed(K_vals)"
      ],
      "metadata": {
        "colab": {
          "base_uri": "https://localhost:8080/"
        },
        "id": "RQz_ESJJljAK",
        "outputId": "d757f9c9-a6eb-47ae-ff00-d406aeca7dc6"
      },
      "execution_count": null,
      "outputs": [
        {
          "output_type": "stream",
          "name": "stdout",
          "text": [
            "0.396\n",
            "0.388\n",
            "0.284\n",
            "0.192\n",
            "0.196\n",
            "The model with the best error out is k = 6 with an error of: 0.192\n"
          ]
        }
      ]
    },
    {
      "cell_type": "code",
      "source": [
        "import random\n",
        "N = 100000\n",
        "e1 = 0\n",
        "e2 = 0\n",
        "e = 0\n",
        "for i in range(N):\n",
        "  e1_i = random.uniform(0,1)\n",
        "  e2_i = random.uniform(0,1)\n",
        "  e1 += e1_i / N\n",
        "  e2 += e2_i / N\n",
        "  e += min(e1_i, e2_i) / N\n",
        "\n",
        "print(\"e1: \" + str(e1) + \"\\n e2: \" + str(e2) + \"\\n e: \" + str(e) + \"\\n\")"
      ],
      "metadata": {
        "colab": {
          "base_uri": "https://localhost:8080/"
        },
        "id": "Nr1yiTtut_-C",
        "outputId": "904abd9d-54ae-4085-a29a-deac74f879ef"
      },
      "execution_count": null,
      "outputs": [
        {
          "output_type": "stream",
          "name": "stdout",
          "text": [
            "e1: 0.5016911936892019\n",
            " e2: 0.49915115453052683\n",
            " e: 0.33338727548378866\n",
            "\n"
          ]
        }
      ]
    },
    {
      "cell_type": "markdown",
      "source": [
        "#SVM VS PLA"
      ],
      "metadata": {
        "id": "SwNAYdj_LHUX"
      }
    },
    {
      "cell_type": "code",
      "source": [
        "from sklearn import svm\n",
        "from sklearn.linear_model import Perceptron\n",
        "import math\n",
        "\n",
        "min_val = -1\n",
        "max_val = 1\n",
        "d = 2\n",
        "def create_points(N):\n",
        "  X = [(0, 0) for i in range(N)]\n",
        "  for i in range(N):\n",
        "    X[i] = (random.uniform(min_val, max_val), random.uniform(min_val, max_val))\n",
        "  return np.array(X)\n",
        "\n",
        "def get_target_function():\n",
        "  x1 = random.uniform(min_val, max_val)\n",
        "  y1 = random.uniform(min_val, max_val)\n",
        "  x2 = random.uniform(min_val, max_val)\n",
        "  y2 = random.uniform(min_val, max_val)\n",
        "  m =  (y1 - y2) / (x1 - x2)\n",
        "  b = y1 - (m * x1)\n",
        "  return (m, b)\n",
        "\n",
        "def create_y(X, target_func):\n",
        "  y = []\n",
        "  for i in range(X.shape[0]):\n",
        "    point = X[i]\n",
        "    point_class = -1\n",
        "    if point[0] * target_func[0] + target_func[1] > point[1]:\n",
        "      point_class = 1\n",
        "    y.append(point_class)\n",
        "  return np.array(y)\n",
        "\n",
        "\n",
        "def calculate_disagreement(N):\n",
        "  sims = 1000\n",
        "  total = 0.0\n",
        "  total_svm = 0.0\n",
        "  svm_count = 0\n",
        "  svm_more_accurate = 0\n",
        "\n",
        "  for i in range(sims):\n",
        "    # set to test data\n",
        "    num_points = 300\n",
        "    incorrect = 0\n",
        "    incorrect_svm = 0\n",
        "    target_func = get_target_function()\n",
        "    X_test = create_points(num_points)\n",
        "    y_test = create_y(X_test, target_func)\n",
        "    X_train = create_points(N)\n",
        "    y_train = create_y(X_train, target_func)\n",
        "    while len(set(y_train.flatten())) == 1:\n",
        "      X_train = create_points(N)\n",
        "      y_train = create_y(X_train, target_func)\n",
        "\n",
        "    pla = Perceptron()\n",
        "    pla.fit(X_train, y_train)\n",
        "    # np.inf not working\n",
        "    clf = svm.SVC(C= 999999999999, kernel='linear')\n",
        "    clf.fit(X_train, y_train)\n",
        "    svm_count += len(clf.support_vectors_)\n",
        "    incorrect = 1 - pla.score(X_test, y_test)\n",
        "    incorrect_svm = 1 - clf.score(X_test, y_test)\n",
        "    if(incorrect_svm < incorrect):\n",
        "      svm_more_accurate += 1\n",
        "\n",
        "    total += (incorrect / num_points)\n",
        "    total_svm += (incorrect_svm / num_points)\n",
        "  pla_acc = total/sims\n",
        "  svm_acc = total_svm / sims\n",
        "\n",
        "\n",
        "  return pla_acc, svm_acc, (svm_count/ sims), (svm_more_accurate / sims)\n",
        "\n",
        "pla_acc, svm_acc, svm_count, svm_better = calculate_disagreement(10)"
      ],
      "metadata": {
        "id": "IO-GfZbLQQ4i"
      },
      "execution_count": null,
      "outputs": []
    },
    {
      "cell_type": "code",
      "source": [
        "print(\"For N = 10, SVM is better by: \" + str(svm_better))"
      ],
      "metadata": {
        "colab": {
          "base_uri": "https://localhost:8080/"
        },
        "id": "o7zXsxNjxrhf",
        "outputId": "fb2732d7-bc89-4c1d-fb66-c5d4b81d9aa1"
      },
      "execution_count": null,
      "outputs": [
        {
          "output_type": "stream",
          "name": "stdout",
          "text": [
            "For N = 10, SVM is better by: 0.637\n"
          ]
        }
      ]
    },
    {
      "cell_type": "code",
      "source": [
        "pla_acc, svm_acc, svm_count, svm_better = calculate_disagreement(100)"
      ],
      "metadata": {
        "id": "ktX3YEO2yG0g"
      },
      "execution_count": null,
      "outputs": []
    },
    {
      "cell_type": "code",
      "source": [
        "print(\"For N = 100, SVM is better by: \" + str(svm_better))"
      ],
      "metadata": {
        "colab": {
          "base_uri": "https://localhost:8080/"
        },
        "id": "-mOcy3xnyMXP",
        "outputId": "caf56670-6c77-433e-8a85-1b1ec0b3032b"
      },
      "execution_count": null,
      "outputs": [
        {
          "output_type": "stream",
          "name": "stdout",
          "text": [
            "For N = 100, SVM is better by: 0.695\n"
          ]
        }
      ]
    },
    {
      "cell_type": "code",
      "source": [
        "print(\"For N = 100 the average number of vector machines is: \" + str(svm_count))"
      ],
      "metadata": {
        "colab": {
          "base_uri": "https://localhost:8080/"
        },
        "id": "h5Wxafkg2TbW",
        "outputId": "488f8d01-e655-41c7-9318-cabe3a6e6b05"
      },
      "execution_count": null,
      "outputs": [
        {
          "output_type": "stream",
          "name": "stdout",
          "text": [
            "For N = 100 the average number of vector machines is: 2.997\n"
          ]
        }
      ]
    }
  ]
}
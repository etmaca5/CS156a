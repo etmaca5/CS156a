{
  "nbformat": 4,
  "nbformat_minor": 0,
  "metadata": {
    "colab": {
      "provenance": []
    },
    "kernelspec": {
      "name": "python3",
      "display_name": "Python 3"
    },
    "language_info": {
      "name": "python"
    }
  },
  "cells": [
    {
      "cell_type": "code",
      "execution_count": null,
      "metadata": {
        "colab": {
          "base_uri": "https://localhost:8080/"
        },
        "id": "WzLnA70Gqgq3",
        "outputId": "6756dc3a-0fac-458c-ce18-e2069edc9f0f"
      },
      "outputs": [
        {
          "output_type": "stream",
          "name": "stdout",
          "text": [
            "The number of iterations is: 10\n",
            "And (u,v) is: (0.04473629039778217, 0.02395871409914181)\n"
          ]
        }
      ],
      "source": [
        "# problem 5 and 6\n",
        "import math\n",
        "import numpy as np\n",
        "\n",
        "def update_u_v(u,v, learning_rate):\n",
        "  u_new = u - learning_rate * 2 * (u * np.exp(v) - 2 * v * np.exp(-u))*(np.exp(v) + 2 * v * np.exp(-u))\n",
        "  v_new = v - learning_rate * 2 * (u * np.exp(v) - 2 * v * np.exp(-u))*(u * np.exp(v) - 2 * np.exp(-u))\n",
        "  return u_new, v_new\n",
        "\n",
        "def calc_error(u, v):\n",
        "  return (u * np.exp(v) - 2 * v * np.exp(-u)) ** 2\n",
        "\n",
        "def count_iterations(u, v, learning_rate):\n",
        "  iterations = 0\n",
        "  while calc_error(u, v) > 10**(-14):\n",
        "    u, v = update_u_v(u, v, learning_rate)\n",
        "    iterations += 1\n",
        "  return iterations, u , v\n",
        "\n",
        "iterations, u, v = count_iterations(1, 1, 0.1)\n",
        "print(\"The number of iterations is: \" + str(iterations))\n",
        "print(\"And (u,v) is: \" + str((u,v)))"
      ]
    },
    {
      "cell_type": "code",
      "source": [
        "def update_u(u,v, learning_rate):\n",
        "  u_new = u - learning_rate * 2 * (u * np.exp(v) - 2 * v * np.exp(-u))*(np.exp(v) + 2 * v * np.exp(-u))\n",
        "  return u_new\n",
        "\n",
        "def update_v(u,v, learning_rate):\n",
        "  v_new = v - learning_rate * 2 * (u * np.exp(v) - 2 * v * np.exp(-u))*(u * np.exp(v) - 2 * np.exp(-u))\n",
        "  return v_new\n",
        "\n",
        "def find_error(u, v, learning_rate, max_iterations):\n",
        "  iterations = 0\n",
        "  for i in range(max_iterations):\n",
        "    u = update_u(u, v, learning_rate);\n",
        "    v = update_v(u, v, learning_rate);\n",
        "    iterations += 1;\n",
        "  return calc_error(u,v)\n",
        "\n",
        "print(\"The error after 15 iterations is: \" + str(find_error(1, 1, 0.1, 15)))"
      ],
      "metadata": {
        "colab": {
          "base_uri": "https://localhost:8080/"
        },
        "id": "KckuLIAj_yu8",
        "outputId": "a4e48f03-65bd-4448-fedd-3737b099c0bb"
      },
      "execution_count": null,
      "outputs": [
        {
          "output_type": "stream",
          "name": "stdout",
          "text": [
            "The error after 15 iterations is: 0.13981379199615304\n"
          ]
        }
      ]
    },
    {
      "cell_type": "code",
      "source": [
        "# problem 8 - 9\n",
        "import random\n",
        "# global vars\n",
        "min = -1\n",
        "max = 1\n",
        "d = 2\n",
        "def create_X(N):\n",
        "  X = [(0, 0, 0) for i in range(N)]\n",
        "  for i in range(N):\n",
        "    X[i] = (random.uniform(min, max), random.uniform(min, max), 1)\n",
        "  return np.array(X)\n",
        "\n",
        "def create_y(X, target_func):\n",
        "  y = []\n",
        "  for i in range(X.shape[0]):\n",
        "    point = X[i]\n",
        "    point_class = -1\n",
        "    if point[0] * target_func[0] + target_func[1] > point[1]:\n",
        "      point_class = 1\n",
        "    y.append(point_class)\n",
        "  return np.array(y)\n",
        "\n",
        "def get_target_function():\n",
        "  x1 = random.uniform(min, max)\n",
        "  y1 = random.uniform(min, max)\n",
        "  x2 = random.uniform(min, max)\n",
        "  y2 = random.uniform(min, max)\n",
        "  m =  (y1 - y2) / (x1 - x2)\n",
        "  b = y1 - (m * x1)\n",
        "  return (m ,  b)\n",
        "\n",
        "def gradient(w, x, y):\n",
        "  return -(y * x)/ (1 + np.exp(y * np.dot(w, np.array(x))))\n",
        "\n",
        "\n",
        "def get_e_out(w, target_function):\n",
        "  num_points = 1000\n",
        "  X = create_X(num_points)\n",
        "  y = create_y(X, target_function)\n",
        "  err = 0\n",
        "  for i in range(num_points):\n",
        "    err += math.log(1 + np.exp(-y[i] * np.dot(w, np.array(X[i]))))\n",
        "  return err / num_points\n",
        "\n",
        "\n",
        "def logistic_regression(N, learning_rate):\n",
        "  w = np.array((0,0,0))\n",
        "  w_prev = np.array((1, 1, 1))\n",
        "  epoch = 0\n",
        "  target_function = get_target_function()\n",
        "  X = create_X(N)\n",
        "  y = create_y(X, target_function)\n",
        "  indices = list(range(len(X)))\n",
        "  while np.linalg.norm(w_prev - w) >= 0.01:\n",
        "    w_prev = w\n",
        "    random.shuffle(indices)\n",
        "    for i in indices:\n",
        "      w = w - learning_rate * gradient(w, X[i], y[i])\n",
        "    epoch += 1\n",
        "  err = get_e_out(w, target_function)\n",
        "  return epoch, err\n",
        "\n",
        "def get_results_log_reg(N, learning_rate):\n",
        "  sims = 100\n",
        "  tot_epoch = 0\n",
        "  tot_err = 0\n",
        "  for i in range(sims):\n",
        "    epoch, err = logistic_regression(N, learning_rate)\n",
        "    tot_epoch += epoch\n",
        "    tot_err += err\n",
        "  print(\"The average number of epochs is \" + str(tot_epoch / sims))\n",
        "  print(\"The average E_out is \" + str(tot_err / sims))\n",
        "\n",
        "get_results_log_reg(100, 0.01)"
      ],
      "metadata": {
        "colab": {
          "base_uri": "https://localhost:8080/"
        },
        "id": "Z7Daw-nru9-S",
        "outputId": "0010c46e-7983-41b7-aa14-29e6e1c91fc7"
      },
      "execution_count": null,
      "outputs": [
        {
          "output_type": "stream",
          "name": "stdout",
          "text": [
            "The average number of epochs is 341.14\n",
            "The average E_out is 0.10264910093161708\n"
          ]
        }
      ]
    }
  ]
}